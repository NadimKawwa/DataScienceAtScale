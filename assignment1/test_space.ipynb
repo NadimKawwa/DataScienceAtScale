{
 "cells": [
  {
   "cell_type": "code",
   "execution_count": 59,
   "metadata": {},
   "outputs": [],
   "source": [
    "import json\n",
    "from collections import Counter"
   ]
  },
  {
   "cell_type": "code",
   "execution_count": 3,
   "metadata": {},
   "outputs": [],
   "source": [
    "with open('three_minutes_tweets.json') as f:\n",
    "    lines = f.readlines()\n",
    "\n",
    "lines = [json.loads(x) for x in lines]"
   ]
  },
  {
   "cell_type": "code",
   "execution_count": 57,
   "metadata": {
    "scrolled": true
   },
   "outputs": [],
   "source": [
    "arr = []\n",
    "for i, l in enumerate(lines):\n",
    "    ent = l.get('entities')\n",
    "    if ent is not None:\n",
    "        if len(ent['hashtags'])>0:\n",
    "            arr.append(ent['hashtags'][0]['text'])"
   ]
  },
  {
   "cell_type": "code",
   "execution_count": 60,
   "metadata": {
    "scrolled": false
   },
   "outputs": [],
   "source": [
    "hash_count = Counter(arr)"
   ]
  },
  {
   "cell_type": "code",
   "execution_count": 62,
   "metadata": {},
   "outputs": [
    {
     "name": "stdout",
     "output_type": "stream",
     "text": [
      "MTVHottest 150\n",
      "MPN 51\n",
      "TeenChoiceAwards 50\n",
      "MTVSummerStar 31\n",
      "myfavoritevlog 17\n",
      "PSYKontra 14\n",
      "DragMeDownDay 13\n",
      "DomingoDeGanarSeguidores 8\n",
      "トレクル 8\n",
      "17Ağustos1999 7\n"
     ]
    }
   ],
   "source": [
    "for h, c in hash_count.most_common(10):\n",
    "    print(h+ ' ' + str(c))"
   ]
  },
  {
   "cell_type": "code",
   "execution_count": null,
   "metadata": {},
   "outputs": [],
   "source": []
  },
  {
   "cell_type": "code",
   "execution_count": null,
   "metadata": {},
   "outputs": [],
   "source": []
  },
  {
   "cell_type": "code",
   "execution_count": null,
   "metadata": {},
   "outputs": [],
   "source": []
  }
 ],
 "metadata": {
  "kernelspec": {
   "display_name": "Python 3",
   "language": "python",
   "name": "python3"
  },
  "language_info": {
   "codemirror_mode": {
    "name": "ipython",
    "version": 3
   },
   "file_extension": ".py",
   "mimetype": "text/x-python",
   "name": "python",
   "nbconvert_exporter": "python",
   "pygments_lexer": "ipython3",
   "version": "3.7.4"
  }
 },
 "nbformat": 4,
 "nbformat_minor": 2
}
